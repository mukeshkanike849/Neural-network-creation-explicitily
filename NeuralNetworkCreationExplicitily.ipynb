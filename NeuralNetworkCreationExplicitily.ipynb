{
 "cells": [
  {
   "cell_type": "markdown",
   "metadata": {},
   "source": [
    "## Neural network creation explicitily :"
   ]
  },
  {
   "cell_type": "code",
   "execution_count": 1,
   "metadata": {},
   "outputs": [
    {
     "name": "stdout",
     "output_type": "stream",
     "text": [
      "The dot product is : 2.1672\n",
      "2.1672 is the dot product.\n"
     ]
    }
   ],
   "source": [
    "input_vector = [1.72, 1.23]\n",
    "weights_1 = [1.26, 0]\n",
    "weights_2 = [2.17, 0.32]\n",
    "\n",
    "### compute dot product :\n",
    "first_indexes_mult = input_vector[0] * weights_1[0]\n",
    "second_indexes_mult = input_vector[1] * weights_1[1]\n",
    "dot_product_1 = first_indexes_mult + second_indexes_mult\n",
    "print('The dot product is :', dot_product_1)\n",
    "print(f'{dot_product_1} is the dot product.')"
   ]
  },
  {
   "cell_type": "code",
   "execution_count": 2,
   "metadata": {},
   "outputs": [
    {
     "name": "stdout",
     "output_type": "stream",
     "text": [
      "(2.1672, 4.1259999999999994) are the two dot products respectively.\n"
     ]
    }
   ],
   "source": [
    "import numpy as np               # \"np\" is called as \"context manager\" and \"pd\", \"plt\" etce also.\n",
    "\n",
    "### computing dot product using numpy: \n",
    "dot_product_1 = np.dot(input_vector, weights_1)\n",
    "dot_product_2 = np.dot(input_vector, weights_2)\n",
    "print(f'{dot_product_1, dot_product_2} are the two dot products respectively.')"
   ]
  },
  {
   "cell_type": "code",
   "execution_count": 3,
   "metadata": {},
   "outputs": [
    {
     "name": "stdout",
     "output_type": "stream",
     "text": [
      "Prediction : [0.7985731 0.7985731]\n"
     ]
    }
   ],
   "source": [
    "### wraping vectors in numpy arrays :\n",
    "input_vector = np.array([1.66, 1.56])\n",
    "weights_1 = np.array([1.45, -0.66])\n",
    "bias = np.array([0, 0])\n",
    "\n",
    "### define sigmoid func :\n",
    "def sigmoid(x):\n",
    "    return 1 / (1 + np.exp(-x))\n",
    "\n",
    "### define make_prediction func :\n",
    "def make_prediction(input_vectors, weights, bias):\n",
    "    layer_1 = np.dot(input_vectors, weights) + bias\n",
    "    layer_2 = sigmoid(layer_1)\n",
    "    return layer_2\n",
    "    \n",
    "prediction = make_prediction(input_vector, weights_1, bias)\n",
    "\n",
    "print(f'Prediction : {prediction}') "
   ]
  },
  {
   "cell_type": "code",
   "execution_count": 4,
   "metadata": {},
   "outputs": [
    {
     "name": "stdout",
     "output_type": "stream",
     "text": [
      "Prediction : [0.87101915 0.87101915]\n"
     ]
    }
   ],
   "source": [
    "### change the value of the \"input_vector\" :\n",
    "input_vector = np.array([2, 1.5])\n",
    "\n",
    "prediction = make_prediction(input_vector, weights_1, bias)\n",
    "print(f'Prediction : {prediction}')"
   ]
  },
  {
   "cell_type": "markdown",
   "metadata": {},
   "source": [
    "**Above prediction is wrong**"
   ]
  },
  {
   "cell_type": "code",
   "execution_count": 5,
   "metadata": {},
   "outputs": [
    {
     "name": "stdout",
     "output_type": "stream",
     "text": [
      "prediction : [0.87101915 0.87101915], mse : [0.75867436 0.75867436]\n"
     ]
    }
   ],
   "source": [
    "### Computing the prediction error :\n",
    "target = 0\n",
    "\n",
    "mse = np.square(prediction - target)\n",
    "\n",
    "print(f'prediction : {prediction}, mse : {mse}')"
   ]
  },
  {
   "cell_type": "code",
   "execution_count": 6,
   "metadata": {},
   "outputs": [
    {
     "name": "stdout",
     "output_type": "stream",
     "text": [
      "Derivative is : [1.7420383 1.7420383]\n"
     ]
    }
   ],
   "source": [
    "### Reduction of error by using \"Gradient Descent\" method and updating new weights :\n",
    "derivative = 2 * (prediction - target)\n",
    "\n",
    "print(f'Derivative is : {derivative}')"
   ]
  },
  {
   "cell_type": "code",
   "execution_count": 7,
   "metadata": {},
   "outputs": [
    {
     "name": "stdout",
     "output_type": "stream",
     "text": [
      "New Prediction : [0.01496248 0.01496248], error : [0.00022388 0.00022388]\n"
     ]
    }
   ],
   "source": [
    "### Updating weights :\n",
    "weights_1 = weights_1 - derivative\n",
    "\n",
    "prediction = make_prediction(input_vector, weights_1, bias)\n",
    "\n",
    "### Computing new error :\n",
    "mse = np.square(prediction - target)\n",
    "\n",
    "print(f'New Prediction : {prediction}, error : {mse}')"
   ]
  },
  {
   "cell_type": "raw",
   "metadata": {},
   "source": [
    "### Reverse propagation :\n",
    "def sigmoiddev():\n",
    "    return sigmoid(x) * (1 - sigmoid(x))\n",
    "\n",
    "derror_dprediction = 2 * (prediction - target)\n",
    "\n",
    "layer_1 = np.dot(input_vector, weights_1) + bias \n",
    "\n",
    "dprediction_dlayer_1 = sigmoid_dev(layer_1)\n",
    "\n",
    "dlayer_1_dweights"
   ]
  },
  {
   "cell_type": "code",
   "execution_count": null,
   "metadata": {},
   "outputs": [],
   "source": []
  },
  {
   "cell_type": "code",
   "execution_count": 8,
   "metadata": {},
   "outputs": [],
   "source": [
    "### Creating neural networks explicitily :\n",
    "class NeuralNetwork():\n",
    "    \n",
    "    ## Declaring the 3x1 weight matrix :\n",
    "    def __init__(self):\n",
    "        np.random.seed(1)\n",
    "        ## Select array of 3 no's with 3X1 matrix :\n",
    "        self.synaptic_weights = 2 * np.random.random((3, 1)) - 1 \n",
    "        \n",
    "    ## Applying sigmoid activation function :\n",
    "    def sigmoid(self, x):\n",
    "        return 1 / (1 + np.exp(-x))\n",
    "    \n",
    "    ## defining sigmoid derivative :\n",
    "    def sigmoid_derivative(self, x):\n",
    "        return x * (1 - x)\n",
    "    \n",
    "    ## train the model to make accurate predictions :\n",
    "    def train(self, training_inputs, training_outputs, training_iterations):\n",
    "        for iteration in range(training_iterations):\n",
    "            output = self.think(training_inputs)\n",
    "    \n",
    "            # Compute error rate for back propagation :\n",
    "            error = training_outputs - output\n",
    "            \n",
    "            # performing weight adjustments :\n",
    "            adjustments = np.dot(training_inputs.T, error * self.sigmoid_derivative(output))\n",
    "            \n",
    "            self.synaptic_weights += adjustments\n",
    "            \n",
    "            \n",
    "    def think(self, inputs):\n",
    "        inputs = inputs.astype(float)\n",
    "        output = self.sigmoid(np.dot(inputs, self.synaptic_weights))\n",
    "        return output\n",
    "            "
   ]
  },
  {
   "cell_type": "code",
   "execution_count": 9,
   "metadata": {},
   "outputs": [],
   "source": [
    "#2 * np.random.random((3, 1)) - 1"
   ]
  },
  {
   "cell_type": "code",
   "execution_count": 10,
   "metadata": {},
   "outputs": [
    {
     "name": "stdout",
     "output_type": "stream",
     "text": [
      "Beginning with randomly generated weights\n",
      "[[-0.16595599]\n",
      " [ 0.44064899]\n",
      " [-0.99977125]]\n",
      "--------------------\n",
      "ending weights after training :\n",
      "[[10.08740896]\n",
      " [-0.20695366]\n",
      " [-4.83757835]]\n",
      "------------------------------\n"
     ]
    },
    {
     "name": "stdin",
     "output_type": "stream",
     "text": [
      "user input one :  1\n",
      "user input two :  2\n",
      "user input three :  3\n"
     ]
    },
    {
     "name": "stdout",
     "output_type": "stream",
     "text": [
      "Considering new situation : 1 2 3\n",
      "New output data : \n",
      "[0.00785099]\n",
      "Woow, We did it!\n"
     ]
    }
   ],
   "source": [
    "if __name__ == '__main__':\n",
    "    ## intialising the nueron class :\n",
    "    neural_network = NeuralNetwork()\n",
    "\n",
    "    print('Beginning with randomly generated weights')\n",
    "    print(neural_network.synaptic_weights)\n",
    "    print('-' * 20)\n",
    "    \n",
    "    training_inputs = np.array([[0, 0, 1],\n",
    "                                [1, 1, 1],\n",
    "                                [1, 0, 1],\n",
    "                                [0, 1, 1]])\n",
    "    \n",
    "    training_outputs = np.array([[0, 1, 1, 0]]).T\n",
    "    \n",
    "    ## training the data :\n",
    "    neural_network.train(training_inputs, training_outputs, 15000)\n",
    "    \n",
    "    print('ending weights after training :')\n",
    "    print(neural_network.synaptic_weights)\n",
    "    \n",
    "    print('------------------------------')\n",
    "    user_input_one = input('user input one : ')       # we can use str() also here in this line.\n",
    "    user_input_two = str(input('user input two : '))\n",
    "    user_input_three = str(input('user input three : '))\n",
    "    \n",
    "    print('Considering new situation :', user_input_one, user_input_two, user_input_three)\n",
    "    print('New output data : ')\n",
    "    print(neural_network.think(np.array([user_input_one, user_input_two, user_input_three])))\n",
    "    \n",
    "    print(\"Woow, We did it!\")"
   ]
  },
  {
   "cell_type": "code",
   "execution_count": 11,
   "metadata": {},
   "outputs": [],
   "source": [
    "#neural_network.synaptic_weights"
   ]
  },
  {
   "cell_type": "code",
   "execution_count": null,
   "metadata": {},
   "outputs": [],
   "source": []
  },
  {
   "cell_type": "code",
   "execution_count": null,
   "metadata": {},
   "outputs": [],
   "source": []
  },
  {
   "cell_type": "code",
   "execution_count": null,
   "metadata": {},
   "outputs": [],
   "source": []
  },
  {
   "cell_type": "code",
   "execution_count": null,
   "metadata": {},
   "outputs": [],
   "source": []
  },
  {
   "cell_type": "code",
   "execution_count": null,
   "metadata": {},
   "outputs": [],
   "source": []
  },
  {
   "cell_type": "code",
   "execution_count": null,
   "metadata": {},
   "outputs": [],
   "source": []
  }
 ],
 "metadata": {
  "kernelspec": {
   "display_name": "Python 3",
   "language": "python",
   "name": "python3"
  },
  "language_info": {
   "codemirror_mode": {
    "name": "ipython",
    "version": 3
   },
   "file_extension": ".py",
   "mimetype": "text/x-python",
   "name": "python",
   "nbconvert_exporter": "python",
   "pygments_lexer": "ipython3",
   "version": "3.8.5"
  }
 },
 "nbformat": 4,
 "nbformat_minor": 4
}
